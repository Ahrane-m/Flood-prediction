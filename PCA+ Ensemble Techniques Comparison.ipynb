{
 "cells": [
  {
   "cell_type": "code",
   "execution_count": 1,
   "id": "83cc360d",
   "metadata": {},
   "outputs": [
    {
     "name": "stdout",
     "output_type": "stream",
     "text": [
      "Requirement already satisfied: imblearn in c:\\programdata\\anaconda3\\lib\\site-packages (0.0)\n",
      "Requirement already satisfied: imbalanced-learn in c:\\programdata\\anaconda3\\lib\\site-packages (from imblearn) (0.10.1)\n",
      "Requirement already satisfied: threadpoolctl>=2.0.0 in c:\\programdata\\anaconda3\\lib\\site-packages (from imbalanced-learn->imblearn) (2.1.0)\n",
      "Requirement already satisfied: numpy>=1.17.3 in c:\\programdata\\anaconda3\\lib\\site-packages (from imbalanced-learn->imblearn) (1.20.1)\n",
      "Requirement already satisfied: scipy>=1.3.2 in c:\\programdata\\anaconda3\\lib\\site-packages (from imbalanced-learn->imblearn) (1.6.2)\n",
      "Requirement already satisfied: joblib>=1.1.1 in c:\\programdata\\anaconda3\\lib\\site-packages (from imbalanced-learn->imblearn) (1.2.0)\n",
      "Requirement already satisfied: scikit-learn>=1.0.2 in c:\\programdata\\anaconda3\\lib\\site-packages (from imbalanced-learn->imblearn) (1.1.3)\n"
     ]
    }
   ],
   "source": [
    "!pip install imblearn\n",
    "import pandas as pd\n",
    "import numpy as np\n",
    "import matplotlib.pyplot as plt\n",
    "from sklearn.preprocessing import MinMaxScaler\n",
    "from sklearn.impute import KNNImputer\n",
    "import seaborn as sns\n",
    "from sklearn.model_selection import train_test_split,StratifiedKFold"
   ]
  },
  {
   "cell_type": "code",
   "execution_count": 2,
   "id": "1d820cbc",
   "metadata": {},
   "outputs": [
    {
     "name": "stdout",
     "output_type": "stream",
     "text": [
      "(46046, 8)\n",
      "   elevation  OneDayPriorRainfallOrigin  TenDayPriorOrigin  \\\n",
      "0        0.0                        0.3               92.3   \n",
      "1        0.0                        8.3               95.4   \n",
      "2        0.0                       17.0               96.9   \n",
      "3        0.0                        4.0               97.8   \n",
      "4        0.0                        5.3              115.7   \n",
      "\n",
      "   OneDayPriorRainfall  threedaysprior  sevendaysprior  tendaysprior  Flood  \n",
      "0                  0.0             0.0            37.0          80.0      0  \n",
      "1                  0.0             0.0            52.0          80.0      0  \n",
      "2                  0.0            12.0            72.0          92.0      0  \n",
      "3                  0.0             0.0            80.0         100.0      0  \n",
      "4                 12.0            37.0            80.0         115.0      0  \n",
      "          elevation  OneDayPriorRainfallOrigin  TenDayPriorOrigin  \\\n",
      "count  46046.000000               45895.000000       46046.000000   \n",
      "mean      33.859577                   7.898100          60.835019   \n",
      "std       35.110729                  13.029452          54.141702   \n",
      "min        0.000000                   0.000000           0.000000   \n",
      "25%        6.780000                   0.300000          18.600000   \n",
      "50%       16.000000                   3.700000          49.800000   \n",
      "75%       80.280000                  10.200000          89.500000   \n",
      "max       86.000000                 311.500000         733.100000   \n",
      "\n",
      "       OneDayPriorRainfall  threedaysprior  sevendaysprior  tendaysprior  \\\n",
      "count         45475.000000    46046.000000    46046.000000  46046.000000   \n",
      "mean             24.270515       38.987250       73.813652    105.443022   \n",
      "std              42.390374       55.996643       66.688091     85.319176   \n",
      "min               0.000000        0.000000        0.000000      0.000000   \n",
      "25%               0.000000        2.700000       25.500000     44.000000   \n",
      "50%               8.000000       18.700000       60.000000     89.400000   \n",
      "75%              25.500000       46.600000      102.900000    145.500000   \n",
      "max             521.800000      645.000000      774.400000    803.300000   \n",
      "\n",
      "              Flood  \n",
      "count  46046.000000  \n",
      "mean       0.002389  \n",
      "std        0.048819  \n",
      "min        0.000000  \n",
      "25%        0.000000  \n",
      "50%        0.000000  \n",
      "75%        0.000000  \n",
      "max        1.000000  \n"
     ]
    }
   ],
   "source": [
    "# load data\n",
    "data = pd.read_csv(\"Daily Flood data.csv\",usecols=['elevation','OneDayPriorRainfallOrigin',\n",
    "                            'TenDayPriorOrigin', 'OneDayPriorRainfall', 'threedaysprior',\n",
    "                            'sevendaysprior', 'tendaysprior', 'Flood'])\n",
    "print(data.shape)\n",
    "print(data.head())\n",
    "print(data.describe())"
   ]
  },
  {
   "cell_type": "code",
   "execution_count": 3,
   "id": "0009de57",
   "metadata": {},
   "outputs": [
    {
     "name": "stdout",
     "output_type": "stream",
     "text": [
      "elevation                      0\n",
      "OneDayPriorRainfallOrigin    151\n",
      "TenDayPriorOrigin              0\n",
      "OneDayPriorRainfall          571\n",
      "threedaysprior                 0\n",
      "sevendaysprior                 0\n",
      "tendaysprior                   0\n",
      "Flood                          0\n",
      "dtype: int64\n",
      "elevation                       5\n",
      "OneDayPriorRainfallOrigin     887\n",
      "TenDayPriorOrigin            2150\n",
      "OneDayPriorRainfall          9359\n",
      "threedaysprior               2502\n",
      "sevendaysprior               3030\n",
      "tendaysprior                 3778\n",
      "Flood                           2\n",
      "dtype: int64\n",
      "elevation                    0\n",
      "OneDayPriorRainfallOrigin    0\n",
      "TenDayPriorOrigin            0\n",
      "OneDayPriorRainfall          0\n",
      "threedaysprior               0\n",
      "sevendaysprior               0\n",
      "tendaysprior                 0\n",
      "Flood                        0\n",
      "dtype: int64\n",
      "          elevation  OneDayPriorRainfallOrigin  TenDayPriorOrigin  \\\n",
      "count  46046.000000               46046.000000       46046.000000   \n",
      "mean       0.393716                   0.025330           0.082983   \n",
      "std        0.408264                   0.041808           0.073853   \n",
      "min        0.000000                   0.000000           0.000000   \n",
      "25%        0.078837                   0.000963           0.025372   \n",
      "50%        0.186047                   0.011878           0.067931   \n",
      "75%        0.933488                   0.032745           0.122084   \n",
      "max        1.000000                   1.000000           1.000000   \n",
      "\n",
      "       OneDayPriorRainfall  threedaysprior  sevendaysprior  tendaysprior  \\\n",
      "count         46046.000000    46046.000000    46046.000000  46046.000000   \n",
      "mean              0.046027        0.060445        0.095317      0.131262   \n",
      "std               0.080863        0.086817        0.086116      0.106211   \n",
      "min               0.000000        0.000000        0.000000      0.000000   \n",
      "25%               0.000000        0.004186        0.032929      0.054774   \n",
      "50%               0.015140        0.028992        0.077479      0.111291   \n",
      "75%               0.047911        0.072248        0.132877      0.181128   \n",
      "max               1.000000        1.000000        1.000000      1.000000   \n",
      "\n",
      "              Flood  \n",
      "count  46046.000000  \n",
      "mean       0.002389  \n",
      "std        0.048819  \n",
      "min        0.000000  \n",
      "25%        0.000000  \n",
      "50%        0.000000  \n",
      "75%        0.000000  \n",
      "max        1.000000  \n"
     ]
    }
   ],
   "source": [
    "#missing values\n",
    "null_values = data.isnull().sum()\n",
    "print(null_values)\n",
    "\n",
    "#missingvaluesImputation\n",
    "scaler = MinMaxScaler()\n",
    "data = pd.DataFrame(scaler.fit_transform(data), columns=['elevation','OneDayPriorRainfallOrigin',\n",
    "                            'TenDayPriorOrigin', 'OneDayPriorRainfall', 'threedaysprior',\n",
    "                            'sevendaysprior', 'tendaysprior', 'Flood'])\n",
    "imputer = KNNImputer(n_neighbors=5)\n",
    "data = pd.DataFrame(imputer.fit_transform(data), columns=['elevation','OneDayPriorRainfallOrigin',\n",
    "                            'TenDayPriorOrigin', 'OneDayPriorRainfall', 'threedaysprior',\n",
    "                            'sevendaysprior', 'tendaysprior', 'Flood'])\n",
    "print(data.select_dtypes(include='number').nunique())\n",
    "print(data.isnull().sum())\n",
    "print(data.describe())"
   ]
  },
  {
   "cell_type": "code",
   "execution_count": 4,
   "id": "dd755786",
   "metadata": {},
   "outputs": [
    {
     "name": "stdout",
     "output_type": "stream",
     "text": [
      "(45070, 10)\n"
     ]
    },
    {
     "data": {
      "image/png": "[encoded data removed]",
      "text/plain": [
       "<Figure size 432x288 with 1 Axes>"
      ]
     },
     "metadata": {
      "needs_background": "light"
     },
     "output_type": "display_data"
    }
   ],
   "source": [
    "#movingaveragebasedoutlierremoval\n",
    "# set window size\n",
    "window_size = 7\n",
    "\n",
    "# calculate moving average\n",
    "data['moving_average'] = data['OneDayPriorRainfall'].rolling(window_size).mean()\n",
    "\n",
    "# calculate z-score for each data point\n",
    "data['z_score'] = (data['OneDayPriorRainfall'] - data['moving_average']) / data['OneDayPriorRainfall'].rolling(window_size).std()\n",
    "\n",
    "# identify outliers\n",
    "threshold = 3\n",
    "outliers = data[data['z_score'].abs() > threshold]\n",
    "\n",
    "data = data.drop(outliers.index)\n",
    "print(data.shape)\n",
    "# plot data and outliers\n",
    "plt.plot(data['OneDayPriorRainfall'])\n",
    "plt.scatter(outliers.index, outliers['OneDayPriorRainfall'], color='r')\n",
    "plt.show()"
   ]
  },
  {
   "cell_type": "code",
   "execution_count": 5,
   "id": "1edb1037",
   "metadata": {},
   "outputs": [
    {
     "name": "stdout",
     "output_type": "stream",
     "text": [
      "(44437, 10)\n"
     ]
    },
    {
     "data": {
      "image/png": "[encoded data removed]",
      "text/plain": [
       "<Figure size 432x288 with 1 Axes>"
      ]
     },
     "metadata": {
      "needs_background": "light"
     },
     "output_type": "display_data"
    }
   ],
   "source": [
    "# calculate moving average\n",
    "data['moving_average'] = data['OneDayPriorRainfallOrigin'].rolling(window_size).mean()\n",
    "\n",
    "# calculate z-score for each data point\n",
    "data['z_score'] = (data['OneDayPriorRainfallOrigin'] - data['moving_average']) / data['OneDayPriorRainfallOrigin'].rolling(window_size).std()\n",
    "\n",
    "# identify outliers\n",
    "threshold = 3\n",
    "outliers = data[data['z_score'].abs() > threshold]\n",
    "\n",
    "data = data.drop(outliers.index)\n",
    "print(data.shape)\n",
    "# plot data and outliers\n",
    "plt.plot(data['OneDayPriorRainfallOrigin'])\n",
    "plt.scatter(outliers.index, outliers['OneDayPriorRainfallOrigin'], color='r')\n",
    "plt.show()"
   ]
  },
  {
   "cell_type": "code",
   "execution_count": 6,
   "id": "f075f96d",
   "metadata": {},
   "outputs": [
    {
     "name": "stdout",
     "output_type": "stream",
     "text": [
      "Index(['elevation', 'OneDayPriorRainfallOrigin', 'TenDayPriorOrigin',\n",
      "       'OneDayPriorRainfall', 'threedaysprior', 'sevendaysprior',\n",
      "       'tendaysprior', 'Flood', 'moving_average', 'z_score'],\n",
      "      dtype='object')\n",
      "          elevation  OneDayPriorRainfallOrigin  TenDayPriorOrigin  \\\n",
      "count  44437.000000               44437.000000       44437.000000   \n",
      "mean       0.394815                   0.025605           0.083040   \n",
      "std        0.407066                   0.042208           0.073744   \n",
      "min        0.000000                   0.000000           0.000000   \n",
      "25%        0.078837                   0.001284           0.025917   \n",
      "50%        0.186047                   0.012199           0.068204   \n",
      "75%        0.933488                   0.032745           0.121948   \n",
      "max        1.000000                   1.000000           1.000000   \n",
      "\n",
      "       OneDayPriorRainfall  threedaysprior  sevendaysprior  tendaysprior  \\\n",
      "count         44437.000000    44437.000000    44437.000000  44437.000000   \n",
      "mean              0.047298        0.061933        0.096764      0.133028   \n",
      "std               0.081690        0.087573        0.086184      0.106164   \n",
      "min               0.000000        0.000000        0.000000      0.000000   \n",
      "25%               0.000000        0.005581        0.034866      0.057264   \n",
      "50%               0.015906        0.030233        0.078900      0.113283   \n",
      "75%               0.049828        0.074419        0.134168      0.182497   \n",
      "max               1.000000        1.000000        1.000000      1.000000   \n",
      "\n",
      "              Flood  \n",
      "count  44437.000000  \n",
      "mean       0.002408  \n",
      "std        0.049012  \n",
      "min        0.000000  \n",
      "25%        0.000000  \n",
      "50%        0.000000  \n",
      "75%        0.000000  \n",
      "max        1.000000  \n"
     ]
    }
   ],
   "source": [
    "#imbalanceclasshanding\n",
    "from imblearn.over_sampling import SMOTE\n",
    "print(data.columns)\n",
    "data = data.drop(['moving_average', 'z_score'], axis=1)\n",
    "# Resampling the minority class. The strategy can be changed as required.\n",
    "sm = SMOTE(sampling_strategy='minority', random_state=42)\n",
    "# Fit the model to generate the data.\n",
    "oversampled_X, oversampled_Y = sm.fit_resample(data.drop('Flood', axis=1), data['Flood'])\n",
    "oversampled = pd.concat([pd.DataFrame(oversampled_Y), pd.DataFrame(oversampled_X)], axis=1)\n",
    "X_train, X_test, y_train, y_test = train_test_split(oversampled_X, oversampled_Y, test_size=0.3, random_state=32)\n",
    "print(data.describe())"
   ]
  },
  {
   "cell_type": "code",
   "execution_count": 7,
   "id": "31ae5b57",
   "metadata": {},
   "outputs": [
    {
     "data": {
      "image/png": "[encoded data removed]",
      "text/plain": [
       "<Figure size 432x288 with 1 Axes>"
      ]
     },
     "metadata": {
      "needs_background": "light"
     },
     "output_type": "display_data"
    },
    {
     "name": "stdout",
     "output_type": "stream",
     "text": [
      " sum of Explained variance 0.9896160178992129\n",
      "(88660, 6)\n",
      "[[ 1.00000000e+00  0.00000000e+00  0.00000000e+00  0.00000000e+00\n",
      "   0.00000000e+00  0.00000000e+00  0.00000000e+00]\n",
      " [-0.00000000e+00  1.00000000e+00  2.09410704e-15  1.46191827e-15\n",
      "   3.57517869e-16  2.98455989e-17  4.73672206e-17]\n",
      " [-0.00000000e+00 -2.09907217e-15  1.00000000e+00 -1.73182970e-15\n",
      "   1.15139213e-16 -2.72820908e-16 -3.15211668e-16]\n",
      " [-0.00000000e+00 -1.61936190e-15  1.53003379e-15  1.00000000e+00\n",
      "   8.64567513e-16  4.94964068e-16  4.04543193e-16]\n",
      " [ 0.00000000e+00 -3.70013722e-16 -7.98222933e-17 -8.57271884e-16\n",
      "   1.00000000e+00  4.72686032e-16 -5.88275135e-16]\n",
      " [ 0.00000000e+00 -3.18558007e-16  3.63808061e-16 -8.13237844e-16\n",
      "  -4.94462488e-16  1.00000000e+00  1.94008613e-15]]\n",
      "[0.3700094  0.2420145  0.21559412 0.10064359 0.04700772 0.01434669]\n"
     ]
    }
   ],
   "source": [
    "from sklearn.decomposition import PCA\n",
    "from sklearn.preprocessing import StandardScaler\n",
    "\n",
    "# Scale data before applying PCA\n",
    "scaling = StandardScaler()\n",
    "\n",
    "Scaled_data = scaling.fit_transform(oversampled_X)\n",
    "x = pd.DataFrame(Scaled_data)\n",
    "# Set the n_components=3\n",
    "principal = PCA()\n",
    "principal.fit(x)\n",
    "x = principal.transform(x)\n",
    "plt.figure()\n",
    "plt.plot(np.cumsum(principal.explained_variance_ratio_))\n",
    "plt.xlabel(\"Number of Components\")\n",
    "plt.ylabel(\"Variance (%)\")\n",
    "plt.title(\"Explained Variance\")\n",
    "plt.show()\n",
    "\n",
    "principal = PCA(n_components=6)\n",
    "principal.fit(x)\n",
    "print(\" sum of Explained variance\",sum(principal.explained_variance_ratio_))\n",
    "x = principal.transform(x)\n",
    "\n",
    "# Check the dimensions of data after PCA\n",
    "print(x.shape)\n",
    "\n",
    "print(principal.components_)\n",
    "print(principal.explained_variance_ratio_)"
   ]
  },
  {
   "cell_type": "code",
   "execution_count": 8,
   "id": "dcbeda65",
   "metadata": {},
   "outputs": [],
   "source": [
    "X_train, X_test, y_train, y_test = train_test_split(x, oversampled_Y, test_size=0.3, random_state=32)"
   ]
  },
  {
   "cell_type": "code",
   "execution_count": 9,
   "id": "a9c159dd",
   "metadata": {},
   "outputs": [
    {
     "name": "stdout",
     "output_type": "stream",
     "text": [
      "              precision    recall  f1-score   support\n",
      "\n",
      "         0.0       1.00      0.97      0.98     13343\n",
      "         1.0       0.97      1.00      0.98     13255\n",
      "\n",
      "    accuracy                           0.98     26598\n",
      "   macro avg       0.98      0.98      0.98     26598\n",
      "weighted avg       0.98      0.98      0.98     26598\n",
      "\n"
     ]
    }
   ],
   "source": [
    "from sklearn.ensemble import BaggingClassifier\n",
    "from sklearn.metrics import accuracy_score, classification_report\n",
    "\n",
    "clf = BaggingClassifier(n_estimators=16, random_state=22)\n",
    "clf.fit(X_train, y_train)\n",
    "print(classification_report(y_test, clf.predict(X_test)))"
   ]
  },
  {
   "cell_type": "code",
   "execution_count": 10,
   "id": "3f0ead0c",
   "metadata": {},
   "outputs": [],
   "source": [
    "# get a list of base models\n",
    "def get_models():\n",
    "    models = list()\n",
    "    models.append(('lr', LogisticRegression()))\n",
    "    models.append(('knn', KNeighborsClassifier(n_neighbors=5)))\n",
    "    models.append(('cart', DecisionTreeClassifier(criterion=\"entropy\", max_depth=None,\n",
    "                                                  random_state=42)))\n",
    "    models.append(('svm', SVC(kernel='linear', C=1)))\n",
    "    models.append(('bayes', GaussianNB()))\n",
    "    return models"
   ]
  },
  {
   "cell_type": "code",
   "execution_count": 11,
   "id": "e9d6e002",
   "metadata": {},
   "outputs": [],
   "source": [
    "# fit the blending ensemble\n",
    "def fit_ensemble(models, X_train, X_val, y_train, y_val):\n",
    "    # fit all models on the training set and predict on hold out set\n",
    "    meta_X = list()\n",
    "    for name, model in models:\n",
    "        # fit in training set\n",
    "        model.fit(X_train, y_train)\n",
    "        # predict on hold out set\n",
    "        yhat = model.predict(X_val)\n",
    "        # reshape predictions into a matrix with one column\n",
    "        yhat = yhat.reshape(len(yhat), 1)\n",
    "        # store predictions as input for blending\n",
    "        meta_X.append(yhat)\n",
    "    # create 2d array from predictions, each set is an input feature\n",
    "    meta_X =np.hstack(meta_X)\n",
    "    # define blending model\n",
    "    blender = LogisticRegression()\n",
    "    # fit on predictions from base models\n",
    "    blender.fit(meta_X, y_val)\n",
    "    return blender"
   ]
  },
  {
   "cell_type": "code",
   "execution_count": 12,
   "id": "9e10b962",
   "metadata": {},
   "outputs": [],
   "source": [
    "# # make a prediction with the blending ensemble\n",
    "def predict_ensemble(models, blender, X_test):\n",
    "    # make predictions with base models\n",
    "    meta_X = list()\n",
    "    for name, model in models:\n",
    "        # predict with base model\n",
    "        yhat = model.predict(X_test)\n",
    "        # reshape predictions into a matrix with one column\n",
    "        yhat = yhat.reshape(len(yhat), 1)\n",
    "        # store prediction\n",
    "        meta_X.append(yhat)\n",
    "    # create 2d array from predictions, each set is an input feature\n",
    "    meta_X = np.hstack(meta_X)\n",
    "    # predict\n",
    "    return blender.predict(meta_X)"
   ]
  },
  {
   "cell_type": "code",
   "execution_count": 13,
   "id": "b298931b",
   "metadata": {},
   "outputs": [
    {
     "name": "stdout",
     "output_type": "stream",
     "text": [
      "Train: (62062, 6), Val: (20481, 6), Test: (26598, 6)\n",
      "Blending Accuracy: 97.526\n",
      "              precision    recall  f1-score   support\n",
      "\n",
      "         0.0       0.99      0.96      0.98     13343\n",
      "         1.0       0.96      0.99      0.98     13255\n",
      "\n",
      "    accuracy                           0.98     26598\n",
      "   macro avg       0.98      0.98      0.98     26598\n",
      "weighted avg       0.98      0.98      0.98     26598\n",
      "\n"
     ]
    }
   ],
   "source": [
    "from sklearn.linear_model import LogisticRegression\n",
    "from sklearn.tree import DecisionTreeClassifier\n",
    "from sklearn.svm import SVC\n",
    "from sklearn.ensemble import VotingClassifier, StackingClassifier\n",
    "from sklearn.neighbors import KNeighborsClassifier\n",
    "from sklearn.naive_bayes import GaussianNB\n",
    "\n",
    "# # split training set into train and validation sets\n",
    "X_train_b, X_val, y_train_b, y_val = train_test_split(X_train, y_train, test_size=0.33, random_state=1)\n",
    "# summarize data split\n",
    "print('Train: %s, Val: %s, Test: %s' % (X_train.shape, X_val.shape, X_test.shape))\n",
    "# # create the base models\n",
    "models = get_models()\n",
    "# # train the blending ensemble\n",
    "blender = fit_ensemble(models, X_train, X_val, y_train, y_val)\n",
    "# # make predictions on test set\n",
    "yhat = predict_ensemble(models, blender, X_test)\n",
    "# # evaluate predictions\n",
    "score = accuracy_score(y_test, yhat)\n",
    "print('Blending Accuracy: %.3f' % (score * 100))\n",
    "print(classification_report(y_test, yhat))"
   ]
  },
  {
   "cell_type": "code",
   "execution_count": 14,
   "id": "ea996c7f",
   "metadata": {},
   "outputs": [
    {
     "name": "stdout",
     "output_type": "stream",
     "text": [
      "              precision    recall  f1-score   support\n",
      "\n",
      "         0.0       0.62      0.84      0.72     13343\n",
      "         1.0       0.75      0.49      0.59     13255\n",
      "\n",
      "    accuracy                           0.66     26598\n",
      "   macro avg       0.69      0.66      0.65     26598\n",
      "weighted avg       0.69      0.66      0.65     26598\n",
      "\n"
     ]
    }
   ],
   "source": [
    "from sklearn.ensemble import VotingClassifier, StackingClassifier\n",
    "from sklearn import model_selection\n",
    "from sklearn.model_selection import train_test_split\n",
    "\n",
    "kfold = model_selection.KFold(n_splits=10, random_state=43, shuffle=True)\n",
    "\n",
    "# create the sub models\n",
    "estimators = []\n",
    "model1 = LogisticRegression()\n",
    "estimators.append(('logistic', model1))\n",
    "model2 = DecisionTreeClassifier(criterion=\"entropy\", max_depth=None,\n",
    "                                random_state=42)\n",
    "estimators.append(('cart', model2))\n",
    "model3 = SVC(kernel='linear', C=1)\n",
    "estimators.append(('svm', model3))\n",
    "model4 = GaussianNB()\n",
    "estimators.append(('bayes', model4))\n",
    "\n",
    "# create the ensemble model\n",
    "ensemble = VotingClassifier(estimators)\n",
    "ensemble.fit(X_train, y_train)\n",
    "y_pred = ensemble.predict(X_test)\n",
    "print(classification_report(y_test, y_pred))"
   ]
  },
  {
   "cell_type": "code",
   "execution_count": 15,
   "id": "88108939",
   "metadata": {},
   "outputs": [
    {
     "name": "stdout",
     "output_type": "stream",
     "text": [
      "0.975261297841943\n",
      "              precision    recall  f1-score   support\n",
      "\n",
      "         0.0       0.99      0.96      0.98     13343\n",
      "         1.0       0.96      0.99      0.98     13255\n",
      "\n",
      "    accuracy                           0.98     26598\n",
      "   macro avg       0.98      0.98      0.98     26598\n",
      "weighted avg       0.98      0.98      0.98     26598\n",
      "\n"
     ]
    }
   ],
   "source": [
    "stackingClassifier = StackingClassifier(estimators=estimators, final_estimator=LogisticRegression())\n",
    "resultstacking = stackingClassifier.fit(X_train, y_train).score(X_test, y_test)\n",
    "print(resultstacking)\n",
    "y_predict = stackingClassifier.predict(X_test)\n",
    "print(classification_report(y_test, y_predict))"
   ]
  },
  {
   "cell_type": "code",
   "execution_count": 16,
   "id": "a609190a",
   "metadata": {},
   "outputs": [
    {
     "name": "stdout",
     "output_type": "stream",
     "text": [
      "[2, 4, 6, 8, 10, 12, 14, 16] [0.9690578238965336]\n",
      "[2, 4, 6, 8, 10, 12, 14, 16] [0.9690578238965336, 0.9805624483043838]\n",
      "[2, 4, 6, 8, 10, 12, 14, 16] [0.9690578238965336, 0.9805624483043838, 0.9826302729528535]\n",
      "[2, 4, 6, 8, 10, 12, 14, 16] [0.9690578238965336, 0.9805624483043838, 0.9826302729528535, 0.9836829836829837]\n",
      "[2, 4, 6, 8, 10, 12, 14, 16] [0.9690578238965336, 0.9805624483043838, 0.9826302729528535, 0.9836829836829837, 0.9845101135423716]\n",
      "[2, 4, 6, 8, 10, 12, 14, 16] [0.9690578238965336, 0.9805624483043838, 0.9826302729528535, 0.9836829836829837, 0.9845101135423716, 0.9844349199187908]\n",
      "[2, 4, 6, 8, 10, 12, 14, 16] [0.9690578238965336, 0.9805624483043838, 0.9826302729528535, 0.9836829836829837, 0.9845101135423716, 0.9844349199187908, 0.9845101135423716]\n",
      "[2, 4, 6, 8, 10, 12, 14, 16] [0.9690578238965336, 0.9805624483043838, 0.9826302729528535, 0.9836829836829837, 0.9845101135423716, 0.9844349199187908, 0.9845101135423716, 0.9842469358598391]\n"
     ]
    },
    {
     "data": {
      "image/png": "[encoded data removed]",
      "text/plain": [
       "<Figure size 648x432 with 1 Axes>"
      ]
     },
     "metadata": {
      "needs_background": "light"
     },
     "output_type": "display_data"
    }
   ],
   "source": [
    "from sklearn.ensemble import BaggingClassifier\n",
    "estimator_range = [2, 4, 6, 8, 10, 12, 14, 16]\n",
    "models = []\n",
    "scores = []\n",
    "\n",
    "for n_estimators in estimator_range:\n",
    "    # Create bagging classifier\n",
    "    clf = BaggingClassifier(n_estimators=n_estimators, random_state=22)\n",
    "\n",
    "    # Fit the model\n",
    "    clf.fit(X_train, y_train)\n",
    "\n",
    "    # Append the model and score to their respective list\n",
    "    models.append(clf)\n",
    "    scores.append(accuracy_score(y_true=y_test, y_pred=clf.predict(X_test)))\n",
    "    print(estimator_range,scores)\n",
    "import matplotlib.pyplot as plt\n",
    "\n",
    "# # Generate the plot of scores against number of estimators\n",
    "plt.figure(figsize=(9, 6))\n",
    "plt.plot(estimator_range, scores)\n",
    "#\n",
    "# # Adjust labels and font (to make visable)\n",
    "plt.xlabel(\"n_estimators\", fontsize=18)\n",
    "plt.ylabel(\"score\", fontsize=18)\n",
    "plt.tick_params(labelsize=16)\n",
    "\n",
    "# Visualize plot\n",
    "plt.show()\n"
   ]
  },
  {
   "cell_type": "code",
   "execution_count": 17,
   "id": "4fba1ccf",
   "metadata": {},
   "outputs": [
    {
     "name": "stdout",
     "output_type": "stream",
     "text": [
      "              precision    recall  f1-score   support\n",
      "\n",
      "         0.0       1.00      0.97      0.98     13343\n",
      "         1.0       0.97      1.00      0.98     13255\n",
      "\n",
      "    accuracy                           0.98     26598\n",
      "   macro avg       0.98      0.98      0.98     26598\n",
      "weighted avg       0.98      0.98      0.98     26598\n",
      "\n"
     ]
    }
   ],
   "source": [
    "from sklearn.ensemble import BaggingClassifier\n",
    "clf = BaggingClassifier(n_estimators=16, random_state=22)\n",
    "clf.fit(X_train, y_train)\n",
    "print(classification_report(y_test, clf.predict(X_test)))"
   ]
  },
  {
   "cell_type": "code",
   "execution_count": 18,
   "id": "e5d26ff7",
   "metadata": {},
   "outputs": [
    {
     "name": "stdout",
     "output_type": "stream",
     "text": [
      "              precision    recall  f1-score   support\n",
      "\n",
      "         0.0       0.50      0.49      0.50     13343\n",
      "         1.0       0.50      0.51      0.50     13255\n",
      "\n",
      "    accuracy                           0.50     26598\n",
      "   macro avg       0.50      0.50      0.50     26598\n",
      "weighted avg       0.50      0.50      0.50     26598\n",
      "\n"
     ]
    }
   ],
   "source": [
    "# Import models and utility functions\n",
    "from sklearn.ensemble import RandomForestClassifier, GradientBoostingClassifier\n",
    "from sklearn.model_selection import train_test_split\n",
    "\n",
    "# Setting SEED for reproducibility\n",
    "SEED = 1\n",
    "# Splitting dataset\n",
    "data= oversampled.drop(['OneDayPriorRainfall'], axis=1)\n",
    "x=data.drop('Flood', axis=1)\n",
    "y=data['Flood']\n",
    "train_X, test_X, train_y, test_y = train_test_split(x, y, test_size=0.3, random_state=SEED)\n",
    "\n",
    "# Instantiate Gradient Boosting Regressor\n",
    "gbr = GradientBoostingClassifier(n_estimators=200, max_depth=1, random_state=SEED)\n",
    "\n",
    "# Fit to training set\n",
    "gbr.fit(train_X, train_y)\n",
    "\n",
    "# Predict on test set\n",
    "pred_y = gbr.predict(test_X)\n",
    "\n",
    "print(classification_report(y_test, pred_y))"
   ]
  }
 ],
 "metadata": {
  "kernelspec": {
   "display_name": "Python 3",
   "language": "python",
   "name": "python3"
  },
  "language_info": {
   "codemirror_mode": {
    "name": "ipython",
    "version": 3
   },
   "file_extension": ".py",
   "mimetype": "text/x-python",
   "name": "python",
   "nbconvert_exporter": "python",
   "pygments_lexer": "ipython3",
   "version": "3.8.8"
  }
 },
 "nbformat": 4,
 "nbformat_minor": 5
}

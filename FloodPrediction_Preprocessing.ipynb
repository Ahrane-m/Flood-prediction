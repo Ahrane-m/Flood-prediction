{
 "cells": [
  {
   "cell_type": "code",
   "execution_count": 5,
   "id": "0b3a099e",
   "metadata": {
    "scrolled": true
   },
   "outputs": [
    {
     "name": "stdout",
     "output_type": "stream",
     "text": [
      "Requirement already satisfied: imblearn in c:\\programdata\\anaconda3\\lib\\site-packages (0.0)\n",
      "Requirement already satisfied: imbalanced-learn in c:\\programdata\\anaconda3\\lib\\site-packages (from imblearn) (0.10.1)\n",
      "Requirement already satisfied: threadpoolctl>=2.0.0 in c:\\programdata\\anaconda3\\lib\\site-packages (from imbalanced-learn->imblearn) (2.1.0)\n",
      "Requirement already satisfied: joblib>=1.1.1 in c:\\programdata\\anaconda3\\lib\\site-packages (from imbalanced-learn->imblearn) (1.2.0)\n",
      "Requirement already satisfied: numpy>=1.17.3 in c:\\programdata\\anaconda3\\lib\\site-packages (from imbalanced-learn->imblearn) (1.20.1)\n",
      "Requirement already satisfied: scipy>=1.3.2 in c:\\programdata\\anaconda3\\lib\\site-packages (from imbalanced-learn->imblearn) (1.6.2)\n",
      "Requirement already satisfied: scikit-learn>=1.0.2 in c:\\programdata\\anaconda3\\lib\\site-packages (from imbalanced-learn->imblearn) (1.1.3)\n"
     ]
    }
   ],
   "source": [
    "!pip install imblearn\n",
    "import pandas as pd\n",
    "import numpy as np\n",
    "import matplotlib.pyplot as plt\n",
    "from sklearn.preprocessing import MinMaxScaler\n",
    "from sklearn.impute import KNNImputer\n",
    "import seaborn as sns\n",
    "from sklearn.model_selection import train_test_split,StratifiedKFold"
   ]
  },
  {
   "cell_type": "code",
   "execution_count": 6,
   "id": "a5fec5df",
   "metadata": {},
   "outputs": [
    {
     "name": "stdout",
     "output_type": "stream",
     "text": [
      "(46046, 8)\n",
      "   elevation  OneDayPriorRainfallOrigin  TenDayPriorOrigin  \\\n",
      "0        0.0                        0.3               92.3   \n",
      "1        0.0                        8.3               95.4   \n",
      "2        0.0                       17.0               96.9   \n",
      "3        0.0                        4.0               97.8   \n",
      "4        0.0                        5.3              115.7   \n",
      "\n",
      "   OneDayPriorRainfall  threedaysprior  sevendaysprior  tendaysprior  Flood  \n",
      "0                  0.0             0.0            37.0          80.0      0  \n",
      "1                  0.0             0.0            52.0          80.0      0  \n",
      "2                  0.0            12.0            72.0          92.0      0  \n",
      "3                  0.0             0.0            80.0         100.0      0  \n",
      "4                 12.0            37.0            80.0         115.0      0  \n",
      "          elevation  OneDayPriorRainfallOrigin  TenDayPriorOrigin  \\\n",
      "count  46046.000000               45895.000000       46046.000000   \n",
      "mean      33.859577                   7.898100          60.835019   \n",
      "std       35.110729                  13.029452          54.141702   \n",
      "min        0.000000                   0.000000           0.000000   \n",
      "25%        6.780000                   0.300000          18.600000   \n",
      "50%       16.000000                   3.700000          49.800000   \n",
      "75%       80.280000                  10.200000          89.500000   \n",
      "max       86.000000                 311.500000         733.100000   \n",
      "\n",
      "       OneDayPriorRainfall  threedaysprior  sevendaysprior  tendaysprior  \\\n",
      "count         45475.000000    46046.000000    46046.000000  46046.000000   \n",
      "mean             24.270515       38.987250       73.813652    105.443022   \n",
      "std              42.390374       55.996643       66.688091     85.319176   \n",
      "min               0.000000        0.000000        0.000000      0.000000   \n",
      "25%               0.000000        2.700000       25.500000     44.000000   \n",
      "50%               8.000000       18.700000       60.000000     89.400000   \n",
      "75%              25.500000       46.600000      102.900000    145.500000   \n",
      "max             521.800000      645.000000      774.400000    803.300000   \n",
      "\n",
      "              Flood  \n",
      "count  46046.000000  \n",
      "mean       0.002389  \n",
      "std        0.048819  \n",
      "min        0.000000  \n",
      "25%        0.000000  \n",
      "50%        0.000000  \n",
      "75%        0.000000  \n",
      "max        1.000000  \n"
     ]
    }
   ],
   "source": [
    "# load data\n",
    "data = pd.read_csv(\"Daily Flood data.csv\",usecols=['elevation','OneDayPriorRainfallOrigin',\n",
    "                            'TenDayPriorOrigin', 'OneDayPriorRainfall', 'threedaysprior',\n",
    "                            'sevendaysprior', 'tendaysprior', 'Flood'])\n",
    "print(data.shape)\n",
    "print(data.head())\n",
    "#five_rows = data.iloc[10000:10006] \n",
    "#print(five_rows)\n",
    "print(data.describe())"
   ]
  },
  {
   "cell_type": "code",
   "execution_count": 7,
   "id": "2087e835",
   "metadata": {},
   "outputs": [
    {
     "name": "stdout",
     "output_type": "stream",
     "text": [
      "elevation                      0\n",
      "OneDayPriorRainfallOrigin    151\n",
      "TenDayPriorOrigin              0\n",
      "OneDayPriorRainfall          571\n",
      "threedaysprior                 0\n",
      "sevendaysprior                 0\n",
      "tendaysprior                   0\n",
      "Flood                          0\n",
      "dtype: int64\n",
      "elevation                       5\n",
      "OneDayPriorRainfallOrigin     887\n",
      "TenDayPriorOrigin            2150\n",
      "OneDayPriorRainfall          9359\n",
      "threedaysprior               2502\n",
      "sevendaysprior               3030\n",
      "tendaysprior                 3778\n",
      "Flood                           2\n",
      "dtype: int64\n",
      "elevation                    0\n",
      "OneDayPriorRainfallOrigin    0\n",
      "TenDayPriorOrigin            0\n",
      "OneDayPriorRainfall          0\n",
      "threedaysprior               0\n",
      "sevendaysprior               0\n",
      "tendaysprior                 0\n",
      "Flood                        0\n",
      "dtype: int64\n",
      "          elevation  OneDayPriorRainfallOrigin  TenDayPriorOrigin  \\\n",
      "count  46046.000000               46046.000000       46046.000000   \n",
      "mean       0.393716                   0.025330           0.082983   \n",
      "std        0.408264                   0.041808           0.073853   \n",
      "min        0.000000                   0.000000           0.000000   \n",
      "25%        0.078837                   0.000963           0.025372   \n",
      "50%        0.186047                   0.011878           0.067931   \n",
      "75%        0.933488                   0.032745           0.122084   \n",
      "max        1.000000                   1.000000           1.000000   \n",
      "\n",
      "       OneDayPriorRainfall  threedaysprior  sevendaysprior  tendaysprior  \\\n",
      "count         46046.000000    46046.000000    46046.000000  46046.000000   \n",
      "mean              0.046027        0.060445        0.095317      0.131262   \n",
      "std               0.080863        0.086817        0.086116      0.106211   \n",
      "min               0.000000        0.000000        0.000000      0.000000   \n",
      "25%               0.000000        0.004186        0.032929      0.054774   \n",
      "50%               0.015140        0.028992        0.077479      0.111291   \n",
      "75%               0.047911        0.072248        0.132877      0.181128   \n",
      "max               1.000000        1.000000        1.000000      1.000000   \n",
      "\n",
      "              Flood  \n",
      "count  46046.000000  \n",
      "mean       0.002389  \n",
      "std        0.048819  \n",
      "min        0.000000  \n",
      "25%        0.000000  \n",
      "50%        0.000000  \n",
      "75%        0.000000  \n",
      "max        1.000000  \n"
     ]
    }
   ],
   "source": [
    "#missing values\n",
    "null_values = data.isnull().sum()\n",
    "print(null_values)\n",
    "\n",
    "#missingvaluesImputation\n",
    "scaler = MinMaxScaler()\n",
    "data = pd.DataFrame(scaler.fit_transform(data), columns=['elevation','OneDayPriorRainfallOrigin',\n",
    "                            'TenDayPriorOrigin', 'OneDayPriorRainfall', 'threedaysprior',\n",
    "                            'sevendaysprior', 'tendaysprior', 'Flood'])\n",
    "imputer = KNNImputer(n_neighbors=5)\n",
    "data = pd.DataFrame(imputer.fit_transform(data), columns=['elevation','OneDayPriorRainfallOrigin',\n",
    "                            'TenDayPriorOrigin', 'OneDayPriorRainfall', 'threedaysprior',\n",
    "                            'sevendaysprior', 'tendaysprior', 'Flood'])\n",
    "print(data.select_dtypes(include='number').nunique())\n",
    "print(data.isnull().sum())\n",
    "print(data.describe())"
   ]
  },
  {
   "cell_type": "code",
   "execution_count": 8,
   "id": "147a938b",
   "metadata": {},
   "outputs": [
    {
     "name": "stdout",
     "output_type": "stream",
     "text": [
      "(45070, 10)\n"
     ]
    },
    {
     "data": {
      "image/png": "[encoded data removed]",
      "text/plain": [
       "<Figure size 432x288 with 1 Axes>"
      ]
     },
     "metadata": {
      "needs_background": "light"
     },
     "output_type": "display_data"
    }
   ],
   "source": [
    "#movingaveragebasedoutlierremoval\n",
    "# set window size\n",
    "window_size = 7\n",
    "\n",
    "# calculate moving average\n",
    "data['moving_average'] = data['OneDayPriorRainfall'].rolling(window_size).mean()\n",
    "\n",
    "# calculate z-score for each data point\n",
    "data['z_score'] = (data['OneDayPriorRainfall'] - data['moving_average']) / data['OneDayPriorRainfall'].rolling(window_size).std()\n",
    "\n",
    "# identify outliers\n",
    "threshold = 3\n",
    "outliers = data[data['z_score'].abs() > threshold]\n",
    "\n",
    "data = data.drop(outliers.index)\n",
    "print(data.shape)\n",
    "# plot data and outliers\n",
    "plt.plot(data['OneDayPriorRainfall'])\n",
    "plt.scatter(outliers.index, outliers['OneDayPriorRainfall'], color='r')\n",
    "plt.show()\n"
   ]
  },
  {
   "cell_type": "code",
   "execution_count": 9,
   "id": "7ca1b7aa",
   "metadata": {},
   "outputs": [
    {
     "name": "stdout",
     "output_type": "stream",
     "text": [
      "(44437, 10)\n"
     ]
    },
    {
     "data": {
      "image/png": "[encoded data removed]",
      "text/plain": [
       "<Figure size 432x288 with 1 Axes>"
      ]
     },
     "metadata": {
      "needs_background": "light"
     },
     "output_type": "display_data"
    }
   ],
   "source": [
    "# calculate moving average\n",
    "data['moving_average'] = data['OneDayPriorRainfallOrigin'].rolling(window_size).mean()\n",
    "\n",
    "# calculate z-score for each data point\n",
    "data['z_score'] = (data['OneDayPriorRainfallOrigin'] - data['moving_average']) / data['OneDayPriorRainfallOrigin'].rolling(window_size).std()\n",
    "\n",
    "# identify outliers\n",
    "threshold = 3\n",
    "outliers = data[data['z_score'].abs() > threshold]\n",
    "\n",
    "data = data.drop(outliers.index)\n",
    "print(data.shape)\n",
    "# plot data and outliers\n",
    "plt.plot(data['OneDayPriorRainfallOrigin'])\n",
    "plt.scatter(outliers.index, outliers['OneDayPriorRainfallOrigin'], color='r')\n",
    "plt.show()"
   ]
  },
  {
   "cell_type": "code",
   "execution_count": 10,
   "id": "a9c2e9de",
   "metadata": {},
   "outputs": [
    {
     "name": "stdout",
     "output_type": "stream",
     "text": [
      "Index(['elevation', 'OneDayPriorRainfallOrigin', 'TenDayPriorOrigin',\n",
      "       'OneDayPriorRainfall', 'threedaysprior', 'sevendaysprior',\n",
      "       'tendaysprior', 'Flood', 'moving_average', 'z_score'],\n",
      "      dtype='object')\n"
     ]
    }
   ],
   "source": [
    "#imbalanceclasshanding\n",
    "from imblearn.over_sampling import SMOTE\n",
    "print(data.columns)\n",
    "data = data.drop(['moving_average', 'z_score'], axis=1)\n",
    "# Resampling the minority class. The strategy can be changed as required.\n",
    "sm = SMOTE(sampling_strategy='minority', random_state=42)\n",
    "# Fit the model to generate the data.\n",
    "oversampled_X, oversampled_Y = sm.fit_resample(data.drop('Flood', axis=1), data['Flood'])\n",
    "oversampled = pd.concat([pd.DataFrame(oversampled_Y), pd.DataFrame(oversampled_X)], axis=1)\n",
    "X_train, X_test, y_train, y_test = train_test_split(oversampled_X, oversampled_Y, test_size=0.3, random_state=32)"
   ]
  },
  {
   "cell_type": "code",
   "execution_count": 11,
   "id": "01868177",
   "metadata": {},
   "outputs": [
    {
     "name": "stdout",
     "output_type": "stream",
     "text": [
      "Requirement already satisfied: mlxtend in c:\\programdata\\anaconda3\\lib\\site-packages (0.21.0)\n",
      "Requirement already satisfied: scikit-learn>=1.0.2 in c:\\programdata\\anaconda3\\lib\\site-packages (from mlxtend) (1.1.3)\n",
      "Requirement already satisfied: matplotlib>=3.0.0 in c:\\programdata\\anaconda3\\lib\\site-packages (from mlxtend) (3.3.4)\n",
      "Requirement already satisfied: joblib>=0.13.2 in c:\\programdata\\anaconda3\\lib\\site-packages (from mlxtend) (1.2.0)\n",
      "Requirement already satisfied: setuptools in c:\\programdata\\anaconda3\\lib\\site-packages (from mlxtend) (52.0.0.post20210125)\n",
      "Requirement already satisfied: pandas>=0.24.2 in c:\\programdata\\anaconda3\\lib\\site-packages (from mlxtend) (1.2.4)\n",
      "Requirement already satisfied: numpy>=1.16.2 in c:\\programdata\\anaconda3\\lib\\site-packages (from mlxtend) (1.20.1)\n",
      "Requirement already satisfied: scipy>=1.2.1 in c:\\programdata\\anaconda3\\lib\\site-packages (from mlxtend) (1.6.2)\n",
      "Requirement already satisfied: python-dateutil>=2.1 in c:\\programdata\\anaconda3\\lib\\site-packages (from matplotlib>=3.0.0->mlxtend) (2.8.1)\n",
      "Requirement already satisfied: pyparsing!=2.0.4,!=2.1.2,!=2.1.6,>=2.0.3 in c:\\programdata\\anaconda3\\lib\\site-packages (from matplotlib>=3.0.0->mlxtend) (2.4.7)\n",
      "Requirement already satisfied: pillow>=6.2.0 in c:\\programdata\\anaconda3\\lib\\site-packages (from matplotlib>=3.0.0->mlxtend) (8.2.0)\n",
      "Requirement already satisfied: cycler>=0.10 in c:\\programdata\\anaconda3\\lib\\site-packages (from matplotlib>=3.0.0->mlxtend) (0.10.0)\n",
      "Requirement already satisfied: kiwisolver>=1.0.1 in c:\\programdata\\anaconda3\\lib\\site-packages (from matplotlib>=3.0.0->mlxtend) (1.3.1)\n",
      "Requirement already satisfied: six in c:\\programdata\\anaconda3\\lib\\site-packages (from cycler>=0.10->matplotlib>=3.0.0->mlxtend) (1.15.0)\n",
      "Requirement already satisfied: pytz>=2017.3 in c:\\programdata\\anaconda3\\lib\\site-packages (from pandas>=0.24.2->mlxtend) (2021.1)\n",
      "Requirement already satisfied: threadpoolctl>=2.0.0 in c:\\programdata\\anaconda3\\lib\\site-packages (from scikit-learn>=1.0.2->mlxtend) (2.1.0)\n"
     ]
    }
   ],
   "source": [
    "!pip install mlxtend"
   ]
  },
  {
   "cell_type": "code",
   "execution_count": 12,
   "id": "146571db",
   "metadata": {},
   "outputs": [
    {
     "name": "stderr",
     "output_type": "stream",
     "text": [
      "[Parallel(n_jobs=1)]: Using backend SequentialBackend with 1 concurrent workers.\n",
      "[Parallel(n_jobs=1)]: Done   1 out of   1 | elapsed:   28.4s remaining:    0.0s\n"
     ]
    },
    {
     "name": "stdout",
     "output_type": "stream",
     "text": [
      "Index(['elevation', 'OneDayPriorRainfallOrigin', 'TenDayPriorOrigin',\n",
      "       'OneDayPriorRainfall', 'threedaysprior', 'sevendaysprior'],\n",
      "      dtype='object')\n"
     ]
    },
    {
     "name": "stderr",
     "output_type": "stream",
     "text": [
      "[Parallel(n_jobs=1)]: Done   7 out of   7 | elapsed:  3.8min finished\n",
      "\n",
      "[2023-03-08 17:18:33] Features: 6/6 -- score: 0.9994682293548905"
     ]
    }
   ],
   "source": [
    "from sklearn.ensemble import RandomForestClassifier, GradientBoostingClassifier\n",
    "from mlxtend.plotting import plot_sequential_feature_selection as plot_sfs\n",
    "from sklearn.svm import SVC\n",
    "from mlxtend.feature_selection import SequentialFeatureSelector\n",
    "\n",
    "scv = StratifiedKFold(n_splits=5)\n",
    "feature_selector = SequentialFeatureSelector(RandomForestClassifier(n_jobs=-1),\n",
    "                                             k_features=6,\n",
    "                                             forward=False,\n",
    "                                             verbose=2,\n",
    "                                             scoring='roc_auc',\n",
    "                                             cv=scv)\n",
    "features = feature_selector.fit(np.array(X_train.fillna(0)), y_train)\n",
    "\n",
    "filtered_features = X_train.columns[list(features.k_feature_idx_)]\n",
    "print(filtered_features)\n"
   ]
  },
  {
   "cell_type": "code",
   "execution_count": 21,
   "id": "1a9bb1d2",
   "metadata": {},
   "outputs": [
    {
     "name": "stdout",
     "output_type": "stream",
     "text": [
      "              precision    recall  f1-score   support\n",
      "\n",
      "         0.0       1.00      0.98      0.99     12488\n",
      "         1.0       0.98      1.00      0.99     12417\n",
      "\n",
      "    accuracy                           0.99     24905\n",
      "   macro avg       0.99      0.99      0.99     24905\n",
      "weighted avg       0.99      0.99      0.99     24905\n",
      "\n"
     ]
    }
   ],
   "source": [
    "from sklearn.ensemble import BaggingClassifier\n",
    "from sklearn.metrics import accuracy_score, classification_report\n",
    "\n",
    "data= oversampled.drop(['tendaysprior'], axis=1)\n",
    "x=data.drop('Flood', axis=1)\n",
    "y=data['Flood']\n",
    "X_train_full, X_test, y_train_full, y_test = train_test_split(x, y, test_size=0.3,\n",
    "                                                              random_state=1)\n",
    "clf = BaggingClassifier(n_estimators=16, random_state=22)\n",
    "clf.fit(X_train_full, y_train_full)\n",
    "print(classification_report(y_test, clf.predict(X_test)))"
   ]
  },
  {
   "cell_type": "code",
   "execution_count": 22,
   "id": "ec08cb45",
   "metadata": {},
   "outputs": [
    {
     "name": "stdout",
     "output_type": "stream",
     "text": [
      "elevation                      0\n",
      "OneDayPriorRainfallOrigin    151\n",
      "TenDayPriorOrigin              0\n",
      "OneDayPriorRainfall          571\n",
      "threedaysprior                 0\n",
      "sevendaysprior                 0\n",
      "tendaysprior                   0\n",
      "Flood                          0\n",
      "dtype: int64\n",
      "elevation                       5\n",
      "OneDayPriorRainfallOrigin     887\n",
      "TenDayPriorOrigin            2150\n",
      "OneDayPriorRainfall          9359\n",
      "threedaysprior               2502\n",
      "sevendaysprior               3030\n",
      "tendaysprior                 3778\n",
      "Flood                           2\n",
      "dtype: int64\n",
      "elevation                    0\n",
      "OneDayPriorRainfallOrigin    0\n",
      "TenDayPriorOrigin            0\n",
      "OneDayPriorRainfall          0\n",
      "threedaysprior               0\n",
      "sevendaysprior               0\n",
      "tendaysprior                 0\n",
      "Flood                        0\n",
      "dtype: int64\n",
      "          elevation  OneDayPriorRainfallOrigin  TenDayPriorOrigin  \\\n",
      "count  46046.000000               46046.000000       46046.000000   \n",
      "mean       0.393716                   0.025330           0.082983   \n",
      "std        0.408264                   0.041808           0.073853   \n",
      "min        0.000000                   0.000000           0.000000   \n",
      "25%        0.078837                   0.000963           0.025372   \n",
      "50%        0.186047                   0.011878           0.067931   \n",
      "75%        0.933488                   0.032745           0.122084   \n",
      "max        1.000000                   1.000000           1.000000   \n",
      "\n",
      "       OneDayPriorRainfall  threedaysprior  sevendaysprior  tendaysprior  \\\n",
      "count         46046.000000    46046.000000    46046.000000  46046.000000   \n",
      "mean              0.046027        0.060445        0.095317      0.131262   \n",
      "std               0.080863        0.086817        0.086116      0.106211   \n",
      "min               0.000000        0.000000        0.000000      0.000000   \n",
      "25%               0.000000        0.004186        0.032929      0.054774   \n",
      "50%               0.015140        0.028992        0.077479      0.111291   \n",
      "75%               0.047911        0.072248        0.132877      0.181128   \n",
      "max               1.000000        1.000000        1.000000      1.000000   \n",
      "\n",
      "              Flood  \n",
      "count  46046.000000  \n",
      "mean       0.002389  \n",
      "std        0.048819  \n",
      "min        0.000000  \n",
      "25%        0.000000  \n",
      "50%        0.000000  \n",
      "75%        0.000000  \n",
      "max        1.000000  \n",
      "(43743, 8)\n"
     ]
    },
    {
     "data": {
      "image/png": "[encoded data removed]",
      "text/plain": [
       "<Figure size 432x288 with 1 Axes>"
      ]
     },
     "metadata": {
      "needs_background": "light"
     },
     "output_type": "display_data"
    }
   ],
   "source": [
    "import pandas as pd\n",
    "import numpy as np\n",
    "import matplotlib.pyplot as plt\n",
    "\n",
    "# load data\n",
    "data = pd.read_csv(\"Daily Flood data.csv\",usecols=['elevation','OneDayPriorRainfallOrigin',\n",
    "                            'TenDayPriorOrigin', 'OneDayPriorRainfall', 'threedaysprior',\n",
    "                            'sevendaysprior', 'tendaysprior', 'Flood'])\n",
    "\n",
    "#missing values\n",
    "null_values = data.isnull().sum()\n",
    "print(null_values)\n",
    "\n",
    "#missingvaluesImputation\n",
    "scaler = MinMaxScaler()\n",
    "data = pd.DataFrame(scaler.fit_transform(data), columns=['elevation','OneDayPriorRainfallOrigin',\n",
    "                            'TenDayPriorOrigin', 'OneDayPriorRainfall', 'threedaysprior',\n",
    "                            'sevendaysprior', 'tendaysprior', 'Flood'])\n",
    "imputer = KNNImputer(n_neighbors=5)\n",
    "data = pd.DataFrame(imputer.fit_transform(data), columns=['elevation','OneDayPriorRainfallOrigin',\n",
    "                            'TenDayPriorOrigin', 'OneDayPriorRainfall', 'threedaysprior',\n",
    "                            'sevendaysprior', 'tendaysprior', 'Flood'])\n",
    "print(data.select_dtypes(include='number').nunique())\n",
    "print(data.isnull().sum())\n",
    "print(data.describe())\n",
    "\n",
    "# set percentile threshold\n",
    "threshold = 95\n",
    "\n",
    "# calculate percentile\n",
    "percentile = np.percentile(data['OneDayPriorRainfall'], threshold)\n",
    "\n",
    "# identify outliers\n",
    "outliers = data[data['OneDayPriorRainfall'] > percentile]\n",
    "\n",
    "data = data.drop(outliers.index)\n",
    "print(data.shape)\n",
    "# plot data and outliers\n",
    "plt.plot(data['OneDayPriorRainfall'])\n",
    "plt.axhline(percentile, color='r')\n",
    "plt.scatter(outliers.index, outliers['OneDayPriorRainfall'], color='r')\n",
    "plt.show()"
   ]
  },
  {
   "cell_type": "code",
   "execution_count": 24,
   "id": "68b2c9af",
   "metadata": {},
   "outputs": [
    {
     "name": "stdout",
     "output_type": "stream",
     "text": [
      "(39540, 8)\n"
     ]
    },
    {
     "data": {
      "image/png": "[encoded data removed]",
      "text/plain": [
       "<Figure size 432x288 with 1 Axes>"
      ]
     },
     "metadata": {
      "needs_background": "light"
     },
     "output_type": "display_data"
    }
   ],
   "source": [
    "# set percentile threshold\n",
    "threshold = 95\n",
    "\n",
    "# calculate percentile\n",
    "percentile = np.percentile(data['OneDayPriorRainfallOrigin'], threshold)\n",
    "\n",
    "# identify outliers\n",
    "outliers = data[data['OneDayPriorRainfallOrigin'] > percentile]\n",
    "\n",
    "data = data.drop(outliers.index)\n",
    "print(data.shape)\n",
    "# plot data and outliers\n",
    "plt.plot(data['OneDayPriorRainfallOrigin'])\n",
    "plt.axhline(percentile, color='r')\n",
    "plt.scatter(outliers.index, outliers['OneDayPriorRainfall'], color='r')\n",
    "plt.show()"
   ]
  },
  {
   "cell_type": "code",
   "execution_count": 25,
   "id": "7ec18b7a",
   "metadata": {},
   "outputs": [
    {
     "name": "stdout",
     "output_type": "stream",
     "text": [
      "Index(['elevation', 'OneDayPriorRainfallOrigin', 'TenDayPriorOrigin',\n",
      "       'OneDayPriorRainfall', 'threedaysprior', 'sevendaysprior',\n",
      "       'tendaysprior', 'Flood'],\n",
      "      dtype='object')\n"
     ]
    }
   ],
   "source": [
    "#imbalanceclasshanding\n",
    "from imblearn.over_sampling import SMOTE\n",
    "print(data.columns)\n",
    "# Resampling the minority class. The strategy can be changed as required.\n",
    "sm = SMOTE(sampling_strategy='minority', random_state=42)\n",
    "# Fit the model to generate the data.\n",
    "oversampled_X, oversampled_Y = sm.fit_resample(data.drop('Flood', axis=1), data['Flood'])\n",
    "oversampled = pd.concat([pd.DataFrame(oversampled_Y), pd.DataFrame(oversampled_X)], axis=1)\n",
    "X_train, X_test, y_train, y_test = train_test_split(oversampled_X, oversampled_Y, test_size=0.3, random_state=32)"
   ]
  },
  {
   "cell_type": "code",
   "execution_count": 26,
   "id": "36358c0c",
   "metadata": {},
   "outputs": [
    {
     "name": "stderr",
     "output_type": "stream",
     "text": [
      "[Parallel(n_jobs=1)]: Using backend SequentialBackend with 1 concurrent workers.\n",
      "[Parallel(n_jobs=1)]: Done   1 out of   1 | elapsed:   25.9s remaining:    0.0s\n"
     ]
    },
    {
     "name": "stdout",
     "output_type": "stream",
     "text": [
      "Index(['elevation', 'OneDayPriorRainfallOrigin', 'TenDayPriorOrigin',\n",
      "       'threedaysprior', 'sevendaysprior', 'tendaysprior'],\n",
      "      dtype='object')\n"
     ]
    },
    {
     "name": "stderr",
     "output_type": "stream",
     "text": [
      "[Parallel(n_jobs=1)]: Done   7 out of   7 | elapsed:  3.1min finished\n",
      "\n",
      "[2023-03-08 17:26:57] Features: 6/6 -- score: 0.9996895215769891"
     ]
    }
   ],
   "source": [
    "from sklearn.ensemble import RandomForestClassifier, GradientBoostingClassifier\n",
    "from mlxtend.plotting import plot_sequential_feature_selection as plot_sfs\n",
    "from sklearn.svm import SVC\n",
    "from mlxtend.feature_selection import SequentialFeatureSelector\n",
    "\n",
    "scv = StratifiedKFold(n_splits=5)\n",
    "feature_selector = SequentialFeatureSelector(RandomForestClassifier(n_jobs=-1),\n",
    "                                             k_features=6,\n",
    "                                             forward=False,\n",
    "                                             verbose=2,\n",
    "                                             scoring='roc_auc',\n",
    "                                             cv=scv)\n",
    "features = feature_selector.fit(np.array(X_train.fillna(0)), y_train)\n",
    "\n",
    "filtered_features = X_train.columns[list(features.k_feature_idx_)]\n",
    "print(filtered_features)"
   ]
  },
  {
   "cell_type": "code",
   "execution_count": 27,
   "id": "7b5f844f",
   "metadata": {},
   "outputs": [
    {
     "name": "stdout",
     "output_type": "stream",
     "text": [
      "              precision    recall  f1-score   support\n",
      "\n",
      "         0.0       1.00      0.98      0.99     11890\n",
      "         1.0       0.98      1.00      0.99     11789\n",
      "\n",
      "    accuracy                           0.99     23679\n",
      "   macro avg       0.99      0.99      0.99     23679\n",
      "weighted avg       0.99      0.99      0.99     23679\n",
      "\n"
     ]
    }
   ],
   "source": [
    "from sklearn.ensemble import BaggingClassifier\n",
    "from sklearn.metrics import accuracy_score, classification_report\n",
    "\n",
    "data= oversampled.drop(['OneDayPriorRainfall'], axis=1)\n",
    "x=data.drop('Flood', axis=1)\n",
    "y=data['Flood']\n",
    "X_train_full, X_test, y_train_full, y_test = train_test_split(x, y, test_size=0.3,\n",
    "                                                              random_state=1)\n",
    "clf = BaggingClassifier(n_estimators=16, random_state=22)\n",
    "clf.fit(X_train_full, y_train_full)\n",
    "print(classification_report(y_test, clf.predict(X_test)))"
   ]
  }
 ],
 "metadata": {
  "kernelspec": {
   "display_name": "Python 3",
   "language": "python",
   "name": "python3"
  },
  "language_info": {
   "codemirror_mode": {
    "name": "ipython",
    "version": 3
   },
   "file_extension": ".py",
   "mimetype": "text/x-python",
   "name": "python",
   "nbconvert_exporter": "python",
   "pygments_lexer": "ipython3",
   "version": "3.8.8"
  }
 },
 "nbformat": 4,
 "nbformat_minor": 5
}
